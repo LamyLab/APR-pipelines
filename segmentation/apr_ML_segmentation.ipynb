{
 "cells": [
  {
   "cell_type": "markdown",
   "metadata": {
    "collapsed": true,
    "pycharm": {
     "name": "#%% md\n"
    }
   },
   "source": [
    "## Initialize everything"
   ]
  },
  {
   "cell_type": "code",
   "execution_count": 1,
   "outputs": [],
   "source": [
    "import pyapr\n",
    "import numpy as np\n",
    "from skimage.io import imsave, imread\n",
    "import matplotlib.pyplot as plt\n",
    "\n",
    "def are_labels_the_same(local_labels):\n",
    "    labels = local_labels[local_labels != 0].flatten()\n",
    "    return ((labels == labels[0]).all(), labels[0])\n",
    "\n",
    "\n",
    "# APR file to segment\n",
    "fpath_apr = r'/media/sf_shared_folder_virtualbox/mouse_2P/data1/2P_mouse_re0.2.apr'\n",
    "fpath_labels = r'/media/sf_shared_folder_virtualbox/mouse_2P/data1/manual_sparse_labels_membrane.npy'\n",
    "\n",
    "# Instantiate APR and particle objects\n",
    "apr = pyapr.APR()\n",
    "parts = pyapr.ShortParticles()  # input particles can be float32 or uint16\n",
    "labels = np.load(fpath_labels).squeeze().astype('uint16') # 0: not labeled - 1: cells - 2: background\n",
    "\n",
    "# Read from APR file\n",
    "pyapr.io.read(fpath_apr, apr, parts)"
   ],
   "metadata": {
    "collapsed": false,
    "pycharm": {
     "name": "#%%\n"
    }
   }
  },
  {
   "cell_type": "markdown",
   "source": [
    "## Perform segmentation on APR"
   ],
   "metadata": {
    "collapsed": false,
    "pycharm": {
     "name": "#%% md\n"
    }
   }
  },
  {
   "cell_type": "code",
   "execution_count": 2,
   "outputs": [
    {
     "name": "stdout",
     "output_type": "stream",
     "text": [
      "Ambiguous label detected, set it to 0.\n",
      "Ambiguous label detected, set it to 0.\n",
      "Ambiguous label detected, set it to 0.\n",
      "Ambiguous label detected, set it to 0.\n",
      "Ambiguous label detected, set it to 0.\n"
     ]
    }
   ],
   "source": [
    "# Iterate over APR structure to obtain level\n",
    "apr_it = apr.iterator()\n",
    "org_dims = apr.org_dims()  # dimension order (y, x, z)\n",
    "py_recon = np.empty((org_dims[2], org_dims[1], org_dims[0]), dtype=np.uint16)\n",
    "max_level = apr.level_max()\n",
    "\n",
    "# particles at the maximum level coincide with pixels so we just assign the label\n",
    "parts_train_C = pyapr.ShortParticles()\n",
    "pyapr.io.read(fpath_apr, apr, parts_train_C)\n",
    "parts_train = np.array(parts_train_C, copy=False)\n",
    "# Read from APR file\n",
    "pyapr.io.read(fpath_apr, apr, parts)\n",
    "lvl = np.empty_like(parts_train)\n",
    "for z in range(apr_it.z_num(apr.level_max())):\n",
    "    for x in range(apr_it.x_num(apr.level_max())):\n",
    "        for idx in range(apr_it.begin(apr.level_max(), z, x), apr_it.end()):\n",
    "            parts_train[idx] = labels[z, x, apr_it.y(idx)]\n",
    "\n",
    "\n",
    "# loop over levels up to level_max-1 to assign the remaining labels\n",
    "for level in range(apr_it.level_min(), apr_it.level_max()):\n",
    "    step_size = 2 ** (max_level - level)    # this is the size (in pixels) of the particle cells at level\n",
    "    for z in range(apr_it.z_num(level)):\n",
    "        for x in range(apr_it.x_num(level)):\n",
    "            for idx in range(apr_it.begin(level, z, x), apr_it.end()):\n",
    "                y = apr_it.y(idx)\n",
    "\n",
    "                y_start = y * step_size\n",
    "                x_start = x * step_size\n",
    "                z_start = z * step_size\n",
    "\n",
    "                y_end = min(y_start+step_size, py_recon.shape[2])\n",
    "                x_end = min(x_start+step_size, py_recon.shape[1])\n",
    "                z_end = min(z_start+step_size, py_recon.shape[0])\n",
    "\n",
    "                local_labels = labels[z_start:z_end, x_start:x_end, y_start:y_end]\n",
    "\n",
    "                if (local_labels == 0).all(): # case where there is no label\n",
    "                    parts_train[idx] = 0\n",
    "                elif np.sum(local_labels != 0) == 1: # case where there is only one label\n",
    "                    parts_train[idx] = local_labels.max()\n",
    "                else:   # case where there are several labels\n",
    "                    same, l = are_labels_the_same(local_labels)\n",
    "                    if same:\n",
    "                        parts_train[idx] = l\n",
    "                    else:\n",
    "                        parts_train[idx] = 0\n",
    "                        print('Ambiguous label detected, set it to 0.')\n",
    "\n",
    "# pyapr.viewer.parts_viewer(apr, parts_train_C)"
   ],
   "metadata": {
    "collapsed": false,
    "pycharm": {
     "name": "#%%\n"
    }
   }
  },
  {
   "cell_type": "markdown",
   "source": [
    "## Compute features"
   ],
   "metadata": {
    "collapsed": false,
    "pycharm": {
     "name": "#%% md\n"
    }
   }
  },
  {
   "cell_type": "code",
   "execution_count": 3,
   "outputs": [],
   "source": [
    "def compute_gradients(apr, parts, sobel=True):\n",
    "    par = apr.get_parameters()\n",
    "    dx = pyapr.FloatParticles()\n",
    "    dy = pyapr.FloatParticles()\n",
    "    dz = pyapr.FloatParticles()\n",
    "\n",
    "    pyapr.numerics.gradient(apr, parts, dz, dimension=2, delta=par.dz, sobel=sobel)\n",
    "    pyapr.numerics.gradient(apr, parts, dx, dimension=1, delta=par.dx, sobel=sobel)\n",
    "    pyapr.numerics.gradient(apr, parts, dy, dimension=0, delta=par.dy, sobel=sobel)\n",
    "    return dz, dx, dy\n",
    "\n",
    "\n",
    "def compute_laplacian(apr, parts, sobel=True):\n",
    "    par = apr.get_parameters()\n",
    "    dz, dx, dy = compute_gradients(apr, parts, sobel)\n",
    "    dx2 = pyapr.FloatParticles()\n",
    "    dy2 = pyapr.FloatParticles()\n",
    "    dz2 = pyapr.FloatParticles()\n",
    "    pyapr.numerics.gradient(apr, dz, dz2, dimension=2, delta=par.dz, sobel=sobel)\n",
    "    pyapr.numerics.gradient(apr, dx, dx2, dimension=1, delta=par.dx, sobel=sobel)\n",
    "    pyapr.numerics.gradient(apr, dy, dy2, dimension=0, delta=par.dy, sobel=sobel)\n",
    "    return dz + dx + dy\n",
    "\n",
    "\n",
    "def compute_gradmag(apr, parts, sobel=True):\n",
    "    par = apr.get_parameters()\n",
    "    gradmag = pyapr.FloatParticles()\n",
    "    pyapr.numerics.gradient_magnitude(apr, parts, gradmag, deltas=(par.dz, par.dx, par.dy), sobel=True)\n",
    "    return gradmag\n",
    "\n",
    "\n",
    "def gaussian_blur(apr, parts, sigma=1.5, size=11):\n",
    "    stencil = pyapr.numerics.get_gaussian_stencil(size, sigma, 3, True)\n",
    "    output = pyapr.FloatParticles()\n",
    "    pyapr.numerics.filter.convolve_pencil(apr, parts, output, stencil, use_stencil_downsample=True,\n",
    "                                          normalize_stencil=True, use_reflective_boundary=True)\n",
    "    return output\n",
    "\n",
    "\n",
    "def particle_levels(apr, normalize=True):\n",
    "    lvls = pyapr.ShortParticles(apr.total_number_particles())\n",
    "    lvls.fill_with_levels(apr)\n",
    "    if normalize:\n",
    "        lvls *= (1 / apr.level_max())\n",
    "    return lvls\n",
    "\n",
    "\n",
    "def compute_std(apr, parts, size=5):\n",
    "    dims = apr.org_dims()\n",
    "    box_size = [size if d >= size else 1 for d in dims]\n",
    "    locstd = pyapr.FloatParticles()\n",
    "    pyapr.numerics.local_std(apr, parts, locstd, size=box_size)\n",
    "    return locstd\n",
    "\n",
    "# Compute gradient along a dimension (Sobel filter). dimension can be 0, 1 or 2\n",
    "grad_x, grad_y, grad_z = compute_gradients(apr, parts)\n",
    "\n",
    "# Compute gradient magnitude (central finite differences)\n",
    "grad = compute_gradmag(apr, parts)\n",
    "\n",
    "# Compute local standard deviation around each particle\n",
    "local_std = compute_std(apr, parts, size=5)\n",
    "\n",
    "# Compute lvl for each particle\n",
    "lvl = particle_levels(apr, normalize=True)\n",
    "\n",
    "# Aggregate filters in a feature array\n",
    "f = np.vstack((np.array(parts, copy=True),\n",
    "               lvl,\n",
    "               grad_x,\n",
    "               grad_y,\n",
    "               grad_z,\n",
    "               grad,\n",
    "               local_std)).T\n",
    "\n",
    "f_name = ['Intensity',\n",
    "               'lvl',\n",
    "               'sobel1',\n",
    "               'sobel2',\n",
    "               'sobel3',\n",
    "               'grad',\n",
    "               'local_std']\n",
    "\n",
    "# Fetch data that was manually labelled\n",
    "ind_manual_label = (parts_train != 0)\n",
    "x = f[ind_manual_label, :]\n",
    "y = parts_train[ind_manual_label]-1\n"
   ],
   "metadata": {
    "collapsed": false,
    "pycharm": {
     "name": "#%%\n"
    }
   }
  },
  {
   "cell_type": "markdown",
   "source": [
    "## Prepare data for training"
   ],
   "metadata": {
    "collapsed": false,
    "pycharm": {
     "name": "#%% md\n"
    }
   }
  },
  {
   "cell_type": "code",
   "execution_count": 4,
   "outputs": [
    {
     "name": "stderr",
     "output_type": "stream",
     "text": [
      "/home/jules/anaconda3/envs/LibAPR/lib/python3.8/site-packages/sklearn/preprocessing/_data.py:174: UserWarning: Numerical issues were encountered when centering the data and might not be solved. Dataset may contain too large values. You may need to prescale your features.\n",
      "  warnings.warn(\"Numerical issues were encountered \"\n",
      "/home/jules/anaconda3/envs/LibAPR/lib/python3.8/site-packages/sklearn/preprocessing/_data.py:191: UserWarning: Numerical issues were encountered when scaling the data and might not be solved. The standard deviation of the data is probably very close to 0. \n",
      "  warnings.warn(\"Numerical issues were encountered \"\n"
     ]
    }
   ],
   "source": [
    "# Train classification algorithm\n",
    "from sklearn.preprocessing import scale\n",
    "from sklearn.model_selection import train_test_split\n",
    "\n",
    "\n",
    "x_scaled = scale(x, with_mean=True, with_std=True)\n",
    "X_train, X_test, y_train, y_test = train_test_split(x_scaled, y, test_size=.4, random_state=0)\n"
   ],
   "metadata": {
    "collapsed": false,
    "pycharm": {
     "name": "#%%\n"
    }
   }
  },
  {
   "cell_type": "code",
   "execution_count": 5,
   "outputs": [
    {
     "name": "stdout",
     "output_type": "stream",
     "text": [
      "[4.6485469e+03 4.9999964e-01 1.3765752e+03 1.1570098e+03 1.2275825e+03\n",
      " 1.3533345e+03 1.2577715e+03]\n",
      "[1.         0.99999714 0.9999999  1.         0.99999994 1.0000005\n",
      " 1.0000007 ]\n"
     ]
    }
   ],
   "source": [
    "print(x.std(axis=0))\n",
    "\n",
    "print(x_scaled.std(axis=0))"
   ],
   "metadata": {
    "collapsed": false,
    "pycharm": {
     "name": "#%%\n"
    }
   }
  },
  {
   "cell_type": "markdown",
   "source": [
    "## Train SVC"
   ],
   "metadata": {
    "collapsed": false,
    "pycharm": {
     "name": "#%% md\n"
    }
   }
  },
  {
   "cell_type": "code",
   "execution_count": 19,
   "outputs": [],
   "source": [
    "from sklearn.model_selection import GridSearchCV\n",
    "from sklearn.metrics import classification_report\n",
    "\n",
    "def GridSearch(classifier, tuned_parameters, scoring):\n",
    "    print(\"# Tuning hyper-parameters\")\n",
    "    print()\n",
    "\n",
    "    clf = GridSearchCV(classifier, tuned_parameters, scoring=scoring)\n",
    "    clf.fit(X_train, y_train)\n",
    "\n",
    "    print(\"Best parameters set found on development set:\\n\\n\")\n",
    "    print(clf.best_params_)\n",
    "    print(\"\\n\\nGrid scores on development set:\\n\")\n",
    "    means = clf.cv_results_['mean_test_score']\n",
    "    stds = clf.cv_results_['std_test_score']\n",
    "    for mean, std, params in zip(means, stds, clf.cv_results_['params']):\n",
    "        print(\"%0.3f (+/-%0.03f) for %r\"\n",
    "              % (mean, std * 2, params))\n",
    "    print(\"\\nDetailed classification report:\")\n",
    "    print(\"The model is trained on the full development set.\")\n",
    "    print(\"The scores are computed on the full evaluation set.\\n\")\n",
    "    y_true, y_pred = y_test, clf.predict(X_test)\n",
    "    print(classification_report(y_true, y_pred))\n",
    "    return clf.best_estimator_\n"
   ],
   "metadata": {
    "collapsed": false,
    "pycharm": {
     "name": "#%%\n"
    }
   }
  },
  {
   "cell_type": "code",
   "execution_count": 8,
   "outputs": [
    {
     "name": "stdout",
     "output_type": "stream",
     "text": [
      "# Tuning hyper-parameters\n",
      "\n",
      "Best parameters set found on development set:\n",
      "{'C': 100, 'kernel': 'linear'}\n",
      "Grid scores on development set:\n",
      "0.852 (+/-0.034) for {'C': 1, 'kernel': 'linear'}\n",
      "0.851 (+/-0.030) for {'C': 10, 'kernel': 'linear'}\n",
      "0.852 (+/-0.028) for {'C': 100, 'kernel': 'linear'}\n",
      "0.851 (+/-0.030) for {'C': 1000, 'kernel': 'linear'}\n",
      "Detailed classification report:\n",
      "The model is trained on the full development set.\n",
      "The scores are computed on the full evaluation set.\n",
      "              precision    recall  f1-score   support\n",
      "\n",
      "           0       0.88      0.88      0.88       597\n",
      "           1       0.84      0.86      0.85       272\n",
      "           2       0.66      0.64      0.65       211\n",
      "\n",
      "    accuracy                           0.83      1080\n",
      "   macro avg       0.80      0.79      0.79      1080\n",
      "weighted avg       0.83      0.83      0.83      1080\n",
      "\n"
     ]
    }
   ],
   "source": [
    "from sklearn.svm import SVC\n",
    "\n",
    "tuned_parameters = {'kernel': ['linear'], 'C': [1, 10, 100, 1000]}\n",
    "clf = GridSearch(SVC(), tuned_parameters, scoring='accuracy')"
   ],
   "metadata": {
    "collapsed": false,
    "pycharm": {
     "name": "#%%\n"
    }
   }
  },
  {
   "cell_type": "code",
   "execution_count": 13,
   "outputs": [
    {
     "data": {
      "text/plain": "Text(0.5, 1.0, 'SVM coeffs')"
     },
     "execution_count": 13,
     "metadata": {},
     "output_type": "execute_result"
    },
    {
     "data": {
      "text/plain": "<Figure size 432x288 with 1 Axes>",
      "image/png": "[encoded data removed]"
     },
     "metadata": {
      "needs_background": "light"
     },
     "output_type": "display_data"
    }
   ],
   "source": [
    "import matplotlib.pyplot as plt\n",
    "\n",
    "plt.bar(f_name, clf.coef_.squeeze()[0,:])\n",
    "plt.bar(f_name, clf.coef_.squeeze()[1,:])\n",
    "plt.bar(f_name, clf.coef_.squeeze()[2,:])\n",
    "plt.title('SVM coeffs')"
   ],
   "metadata": {
    "collapsed": false,
    "pycharm": {
     "name": "#%%\n"
    }
   }
  },
  {
   "cell_type": "code",
   "execution_count": 12,
   "outputs": [
    {
     "data": {
      "text/plain": "(3, 7)"
     },
     "execution_count": 12,
     "metadata": {},
     "output_type": "execute_result"
    }
   ],
   "source": [],
   "metadata": {
    "collapsed": false,
    "pycharm": {
     "name": "#%%\n"
    }
   }
  },
  {
   "cell_type": "markdown",
   "source": [
    "## Gradient Boosting"
   ],
   "metadata": {
    "collapsed": false,
    "pycharm": {
     "name": "#%% md\n"
    }
   }
  },
  {
   "cell_type": "code",
   "execution_count": 14,
   "outputs": [
    {
     "name": "stdout",
     "output_type": "stream",
     "text": [
      "# Tuning hyper-parameters\n",
      "\n",
      "Best parameters set found on development set:\n",
      "{'learning_rate': 1, 'loss': 'deviance', 'max_depth': 5, 'n_estimators': 100}\n",
      "Grid scores on development set:\n",
      "0.764 (+/-0.019) for {'learning_rate': 0.1, 'loss': 'deviance', 'max_depth': 1, 'n_estimators': 10}\n",
      "0.852 (+/-0.018) for {'learning_rate': 0.1, 'loss': 'deviance', 'max_depth': 1, 'n_estimators': 100}\n",
      "0.826 (+/-0.015) for {'learning_rate': 0.1, 'loss': 'deviance', 'max_depth': 2, 'n_estimators': 10}\n",
      "0.862 (+/-0.021) for {'learning_rate': 0.1, 'loss': 'deviance', 'max_depth': 2, 'n_estimators': 100}\n",
      "0.846 (+/-0.025) for {'learning_rate': 0.1, 'loss': 'deviance', 'max_depth': 3, 'n_estimators': 10}\n",
      "0.871 (+/-0.013) for {'learning_rate': 0.1, 'loss': 'deviance', 'max_depth': 3, 'n_estimators': 100}\n",
      "0.852 (+/-0.022) for {'learning_rate': 0.1, 'loss': 'deviance', 'max_depth': 4, 'n_estimators': 10}\n",
      "0.872 (+/-0.013) for {'learning_rate': 0.1, 'loss': 'deviance', 'max_depth': 4, 'n_estimators': 100}\n",
      "0.860 (+/-0.018) for {'learning_rate': 0.1, 'loss': 'deviance', 'max_depth': 5, 'n_estimators': 10}\n",
      "0.870 (+/-0.004) for {'learning_rate': 0.1, 'loss': 'deviance', 'max_depth': 5, 'n_estimators': 100}\n",
      "0.847 (+/-0.035) for {'learning_rate': 1, 'loss': 'deviance', 'max_depth': 1, 'n_estimators': 10}\n",
      "0.858 (+/-0.020) for {'learning_rate': 1, 'loss': 'deviance', 'max_depth': 1, 'n_estimators': 100}\n",
      "0.849 (+/-0.025) for {'learning_rate': 1, 'loss': 'deviance', 'max_depth': 2, 'n_estimators': 10}\n",
      "0.841 (+/-0.035) for {'learning_rate': 1, 'loss': 'deviance', 'max_depth': 2, 'n_estimators': 100}\n",
      "0.851 (+/-0.025) for {'learning_rate': 1, 'loss': 'deviance', 'max_depth': 3, 'n_estimators': 10}\n",
      "0.858 (+/-0.010) for {'learning_rate': 1, 'loss': 'deviance', 'max_depth': 3, 'n_estimators': 100}\n",
      "0.839 (+/-0.029) for {'learning_rate': 1, 'loss': 'deviance', 'max_depth': 4, 'n_estimators': 10}\n",
      "0.861 (+/-0.023) for {'learning_rate': 1, 'loss': 'deviance', 'max_depth': 4, 'n_estimators': 100}\n",
      "0.855 (+/-0.020) for {'learning_rate': 1, 'loss': 'deviance', 'max_depth': 5, 'n_estimators': 10}\n",
      "0.874 (+/-0.008) for {'learning_rate': 1, 'loss': 'deviance', 'max_depth': 5, 'n_estimators': 100}\n",
      "Detailed classification report:\n",
      "The model is trained on the full development set.\n",
      "The scores are computed on the full evaluation set.\n",
      "              precision    recall  f1-score   support\n",
      "\n",
      "           0       0.91      0.92      0.91       597\n",
      "           1       0.90      0.87      0.88       272\n",
      "           2       0.72      0.75      0.74       211\n",
      "\n",
      "    accuracy                           0.87      1080\n",
      "   macro avg       0.85      0.84      0.84      1080\n",
      "weighted avg       0.87      0.87      0.87      1080\n",
      "\n"
     ]
    }
   ],
   "source": [
    "from sklearn.ensemble import GradientBoostingClassifier\n",
    "\n",
    "tuned_parameters = {'loss': ['deviance'],\n",
    "                    'learning_rate': [0.1, 1],\n",
    "                    'n_estimators': [10, 100],\n",
    "                    'max_depth': [1,2,3,4,5]}\n",
    "\n",
    "\n",
    "clf = GridSearch(GradientBoostingClassifier(), tuned_parameters, scoring='accuracy')\n"
   ],
   "metadata": {
    "collapsed": false,
    "pycharm": {
     "name": "#%%\n"
    }
   }
  },
  {
   "cell_type": "markdown",
   "source": [
    "## Random forest (iLastik default)\n"
   ],
   "metadata": {
    "collapsed": false,
    "pycharm": {
     "name": "#%% md\n"
    }
   }
  },
  {
   "cell_type": "code",
   "execution_count": 18,
   "outputs": [
    {
     "name": "stdout",
     "output_type": "stream",
     "text": [
      "# Tuning hyper-parameters\n",
      "\n",
      "Best parameters set found on development set:\n",
      "\n",
      "\n",
      "{'class_weight': None, 'n_estimators': 500}\n",
      "\n",
      "\n",
      "Grid scores on development set:\n",
      "0.848 (+/-0.039) for {'class_weight': 'balanced', 'n_estimators': 50}\n",
      "0.850 (+/-0.019) for {'class_weight': 'balanced', 'n_estimators': 100}\n",
      "0.851 (+/-0.020) for {'class_weight': 'balanced', 'n_estimators': 500}\n",
      "0.848 (+/-0.029) for {'class_weight': None, 'n_estimators': 50}\n",
      "0.849 (+/-0.034) for {'class_weight': None, 'n_estimators': 100}\n",
      "0.854 (+/-0.020) for {'class_weight': None, 'n_estimators': 500}\n",
      "Detailed classification report:\n",
      "The model is trained on the full development set.\n",
      "The scores are computed on the full evaluation set.\n",
      "              precision    recall  f1-score   support\n",
      "\n",
      "           0       0.91      0.94      0.92       597\n",
      "           1       0.93      0.86      0.89       272\n",
      "           2       0.76      0.77      0.76       211\n",
      "\n",
      "    accuracy                           0.89      1080\n",
      "   macro avg       0.87      0.86      0.86      1080\n",
      "weighted avg       0.89      0.89      0.89      1080\n",
      "\n"
     ]
    }
   ],
   "source": [
    "from sklearn.ensemble import RandomForestClassifier\n",
    "\n",
    "tuned_parameters = {'class_weight': ['balanced', None],\n",
    "                    'n_estimators': [50, 100, 500]}\n",
    "\n",
    "clf = GridSearch(RandomForestClassifier(), tuned_parameters, scoring='f1_macro')\n"
   ],
   "metadata": {
    "collapsed": false,
    "pycharm": {
     "name": "#%%\n"
    }
   }
  },
  {
   "cell_type": "code",
   "execution_count": 20,
   "outputs": [],
   "source": [
    "import napari\n",
    "\n",
    "def display_segmentation(u, lmap, vdim=2):\n",
    "    with napari.gui_qt():\n",
    "        viewer = napari.Viewer(ndisplay=vdim)\n",
    "        # add the volume\n",
    "        viewer.add_image(u, name='Intensity image')\n",
    "        # add labels\n",
    "        viewer.add_labels(lmap, name='segmentation')\n",
    "\n",
    "def predict_and_display(apr, parts, clf, x):\n",
    "    data = np.array(pyapr.numerics.reconstruction.recon_pc(apr, parts), copy=False)\n",
    "    y_pred = clf.predict(x)\n",
    "    mask = np.array(parts, copy=False)\n",
    "    for i, elem in enumerate(y_pred):\n",
    "        mask[i] = elem\n",
    "    labels = np.array(pyapr.numerics.reconstruction.recon_pc(apr, parts), copy=False)\n",
    "    display_segmentation(data, labels)"
   ],
   "metadata": {
    "collapsed": false,
    "pycharm": {
     "name": "#%%\n"
    }
   }
  },
  {
   "cell_type": "code",
   "execution_count": 21,
   "outputs": [
    {
     "name": "stderr",
     "output_type": "stream",
     "text": [
      "/home/jules/anaconda3/envs/LibAPR/lib/python3.8/site-packages/sklearn/preprocessing/_data.py:174: UserWarning: Numerical issues were encountered when centering the data and might not be solved. Dataset may contain too large values. You may need to prescale your features.\n",
      "  warnings.warn(\"Numerical issues were encountered \"\n",
      "/home/jules/anaconda3/envs/LibAPR/lib/python3.8/site-packages/sklearn/preprocessing/_data.py:191: UserWarning: Numerical issues were encountered when scaling the data and might not be solved. The standard deviation of the data is probably very close to 0. \n",
      "  warnings.warn(\"Numerical issues were encountered \"\n"
     ]
    }
   ],
   "source": [
    "pyapr.io.read(fpath_apr, apr, parts)\n",
    "predict_and_display(apr, parts, clf, scale(f))"
   ],
   "metadata": {
    "collapsed": false,
    "pycharm": {
     "name": "#%%\n"
    }
   }
  },
  {
   "cell_type": "code",
   "execution_count": null,
   "outputs": [],
   "source": [],
   "metadata": {
    "collapsed": false,
    "pycharm": {
     "name": "#%%\n"
    }
   }
  }
 ],
 "metadata": {
  "kernelspec": {
   "name": "pycharm-2849f61f",
   "language": "python",
   "display_name": "PyCharm (PyLibAPR)"
  },
  "language_info": {
   "codemirror_mode": {
    "name": "ipython",
    "version": 2
   },
   "file_extension": ".py",
   "mimetype": "text/x-python",
   "name": "python",
   "nbconvert_exporter": "python",
   "pygments_lexer": "ipython2",
   "version": "2.7.6"
  }
 },
 "nbformat": 4,
 "nbformat_minor": 0
}